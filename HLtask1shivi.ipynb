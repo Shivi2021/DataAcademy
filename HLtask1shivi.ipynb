{
 "cells": [
  {
   "cell_type": "code",
   "execution_count": 32,
   "metadata": {},
   "outputs": [
    {
     "name": "stdout",
     "output_type": "stream",
     "text": [
      "4\n",
      "Hi,shivi\n",
      "Guess a number\n",
      "4\n",
      "U guessed it rightshivi\\it matches the random number\n"
     ]
    }
   ],
   "source": [
    "\n",
    "import random\n",
    "#Stores a random number \n",
    "rnumber = random.randint(1,10)\n",
    "print(rnumber)\n",
    "\n",
    "#Asks user to input their name and stores it in a variable\n",
    "userName = input(\"what is your name ?\")\n",
    "print(\"Hi,\" + userName + '\\n' \"Guess a number\")\n",
    "\n",
    "\n",
    "#Asks user to guess number between 1 and 10\n",
    "userNumber =int(input(\"Guess a number between 1 and 10:\"))\n",
    "print(userNumber)\n",
    "\n",
    "# validate random number matches with number guessed by user\n",
    "if userNumber==rnumber:\n",
    "    print(\"U guessed it right\" + userName +  \"it matches the random number\")\n",
    "\n",
    "else:\n",
    "    print(\"Oops numbers didnt match\")\n"
   ]
  }
 ],
 "metadata": {
  "interpreter": {
   "hash": "08e0ac7c625bc7f0b95a6be8ddf0522c3b9c82eaba5d32c22e32b73412e87e77"
  },
  "kernelspec": {
   "display_name": "Python 3.9.1 64-bit (system)",
   "language": "python",
   "name": "python3"
  },
  "language_info": {
   "codemirror_mode": {
    "name": "ipython",
    "version": 3
   },
   "file_extension": ".py",
   "mimetype": "text/x-python",
   "name": "python",
   "nbconvert_exporter": "python",
   "pygments_lexer": "ipython3",
   "version": "3.9.1"
  },
  "orig_nbformat": 4
 },
 "nbformat": 4,
 "nbformat_minor": 2
}
