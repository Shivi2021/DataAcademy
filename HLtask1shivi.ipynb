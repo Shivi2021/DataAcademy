{
 "cells": [
  {
   "cell_type": "code",
   "execution_count": 2,
   "metadata": {},
   "outputs": [
    {
     "name": "stdout",
     "output_type": "stream",
     "text": [
      "1\n",
      "Hi,asha\n",
      "Guess a number\n",
      "5\n",
      "Oops numbers didn't match\n"
     ]
    }
   ],
   "source": [
    "\"\"\"\n",
    "Write a program that does the following:\n",
    "a) Stores a random number (1-10) in a variable – see hint below.\n",
    "b) Asks a user for their name and stores this in a variable.\n",
    "c) Asks a user to guess the number between 1 and 10.\n",
    "d) Tells the user whether they have guessed correctly\n",
    "\n",
    "\"\"\"\n",
    "\n",
    "import random\n",
    "\n",
    "#Stores a random number \n",
    "rnumber = random.randint(1,10)\n",
    "print(rnumber)\n",
    "\n",
    "#Asks user to input their name and stores it in a variable\n",
    "userName = input(\"what is your name ?\")\n",
    "print(\"Hi,\" + userName + '\\n' \"Guess a number\")\n",
    "\n",
    "\n",
    "#Asks user to guess number between 1 and 10\n",
    "userNumber =int(input(\"Guess a number between 1 and 10:\"))\n",
    "print(userNumber)\n",
    "\n",
    "# validate random number matches with number guessed by user\n",
    "if userNumber==rnumber:\n",
    "    print(\"U guessed it right \" + userName + \" it matches the random number\")\n",
    "\n",
    "else:\n",
    "    print(\"Oops numbers didn't match\")\n"
   ]
  }
 ],
 "metadata": {
  "interpreter": {
   "hash": "08e0ac7c625bc7f0b95a6be8ddf0522c3b9c82eaba5d32c22e32b73412e87e77"
  },
  "kernelspec": {
   "display_name": "Python 3.9.1 64-bit (system)",
   "language": "python",
   "name": "python3"
  },
  "language_info": {
   "codemirror_mode": {
    "name": "ipython",
    "version": 3
   },
   "file_extension": ".py",
   "mimetype": "text/x-python",
   "name": "python",
   "nbconvert_exporter": "python",
   "pygments_lexer": "ipython3",
   "version": "3.9.1"
  },
  "orig_nbformat": 4
 },
 "nbformat": 4,
 "nbformat_minor": 2
}
