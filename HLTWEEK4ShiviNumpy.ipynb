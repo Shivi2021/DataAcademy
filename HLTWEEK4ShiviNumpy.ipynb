{
 "cells": [
  {
   "cell_type": "code",
   "execution_count": 2,
   "metadata": {},
   "outputs": [],
   "source": [
    "#import the numpy library\n",
    "import numpy as np"
   ]
  },
  {
   "cell_type": "code",
   "execution_count": 12,
   "metadata": {},
   "outputs": [
    {
     "name": "stdout",
     "output_type": "stream",
     "text": [
      "The array is :  [0 1 2 3 4 5 6 7 8 9]\n"
     ]
    }
   ],
   "source": [
    " #Create a 1D array of numbers from 0 to 9\n",
    "arr = np.array(range(10))\n",
    "print(\"The array is : \",arr)"
   ]
  },
  {
   "cell_type": "code",
   "execution_count": 14,
   "metadata": {},
   "outputs": [
    {
     "name": "stdout",
     "output_type": "stream",
     "text": [
      " The array with boolean True values : \n",
      " [[1. 1. 1.]\n",
      " [1. 1. 1.]\n",
      " [1. 1. 1.]]\n"
     ]
    }
   ],
   "source": [
    "#Create a 3×3 NumPy array of all Boolean value Trues\n",
    "boolarr = np.ones([3,3])\n",
    "print(\" The array with boolean True values : \\n\" ,boolarr)"
   ]
  },
  {
   "cell_type": "code",
   "execution_count": 17,
   "metadata": {},
   "outputs": [
    {
     "name": "stdout",
     "output_type": "stream",
     "text": [
      "The array is :  [ 1  2  3  4  5  6  7  8  9 10]\n",
      "The array with odd numbers :  [1 3 5 7 9]\n"
     ]
    }
   ],
   "source": [
    "#Extract all odd numbers from array of 1-10\n",
    "arr = np.array(range(1,11))\n",
    "print(\"The array is : \",arr)\n",
    "#slicing the array by step\n",
    "print(\"The array with odd numbers : \", arr[::2])"
   ]
  },
  {
   "cell_type": "code",
   "execution_count": 18,
   "metadata": {},
   "outputs": [
    {
     "name": "stdout",
     "output_type": "stream",
     "text": [
      "All odd numbers are replaced by -1 :  [-1  2 -1  4 -1  6 -1  8 -1 10]\n"
     ]
    }
   ],
   "source": [
    " #Replace all odd numbers in an array of 1-10 with the value -1\n",
    "arr =np.array(range(1,11))\n",
    "arr[arr%2 == 1] = -1\n",
    "print(\"All odd numbers are replaced by -1 : \",arr)"
   ]
  },
  {
   "cell_type": "code",
   "execution_count": 19,
   "metadata": {},
   "outputs": [
    {
     "name": "stdout",
     "output_type": "stream",
     "text": [
      "Converted array from 1D to 2D : \n",
      "  [[1 2 3 4]\n",
      " [5 6 7 8]]\n"
     ]
    }
   ],
   "source": [
    "#Convert a 1D array to a 2D array with 2 rows\n",
    "\n",
    "a =np.array([1,2,3,4,5,6,7,8])\n",
    "b =a.reshape(2,4)\n",
    "print(\"Converted array from 1D to 2D : \\n \",b)"
   ]
  },
  {
   "cell_type": "code",
   "execution_count": 27,
   "metadata": {},
   "outputs": [
    {
     "name": "stdout",
     "output_type": "stream",
     "text": [
      "The vertical stack of two arrays is : \n",
      " [[1 2 3 4]\n",
      " [5 6 7 8]]\n"
     ]
    }
   ],
   "source": [
    "#Create two arrays a and b, stack these two arrays vertically \n",
    "\n",
    "a = np.array([1,2,3,4])\n",
    "b = np.array([5,6,7,8])\n",
    "#use vstack() to stack horizontally\n",
    "print(\"The vertical stack of two arrays is : \\n\", np.vstack((a,b)))"
   ]
  },
  {
   "cell_type": "code",
   "execution_count": 26,
   "metadata": {},
   "outputs": [
    {
     "name": "stdout",
     "output_type": "stream",
     "text": [
      "Multiplication of two arrays is : \n",
      "  [[ 30  36  42]\n",
      " [ 66  81  96]\n",
      " [102 126 150]]\n",
      "The total of the array is :  729\n"
     ]
    }
   ],
   "source": [
    "\n",
    "#use the np.dot and np.sum to calculate totals\n",
    "\n",
    "a= np.arange(1,10).reshape(3,3)\n",
    "b= np.arange(1,10).reshape(3,3)\n",
    "#use np.dot to multiple two arrays\n",
    "c = np.dot(a,b)\n",
    "print(\"Multiplication of two arrays is : \\n \",c)\n",
    "#use np.sum to total \n",
    "sum=np.sum(c)\n",
    "print(\"The total of the array is : \",sum)\n"
   ]
  },
  {
   "cell_type": "code",
   "execution_count": null,
   "metadata": {},
   "outputs": [],
   "source": [
    "#Extension:\n",
    "#1. Create the following pattern without hardcoding. Use only NumPy functions.\n",
    "#2. In two arrays a ( 1,2,3,4,5) and b ( 4,5,6,7,8,9) – remove all repeating items present in array b\n",
    "#3. Get all items between 3 and 7 from a and b and sum themtogether"
   ]
  },
  {
   "cell_type": "code",
   "execution_count": 11,
   "metadata": {},
   "outputs": [
    {
     "name": "stdout",
     "output_type": "stream",
     "text": [
      "The array is : [1 2 3]\n",
      "The Expected output is :  [1 1 1 2 2 2 3 3 3 1 2 3 1 2 3 1 2 3]\n"
     ]
    }
   ],
   "source": [
    "#create an array using array()\n",
    "a= np.array([1,2,3])\n",
    "print(\"The array is :\",a)\n",
    "\n",
    "#create an array with repetitive elements of array a\n",
    "b= np.repeat(a,3,axis=0)\n",
    "\n",
    "#use resize to create 3*3 matrix of array a\n",
    "c = np.resize(a,(3,3))\n",
    "\n",
    "#use hstack() to place both in horizontal stack\n",
    "x = np.hstack(b)\n",
    "y = np.hstack(c)\n",
    "\n",
    "#use concatenate() to add both arrays together \n",
    "z =np.concatenate((x,y))\n",
    "\n",
    "#use ravel() to put all elements in single line\n",
    "print(\"The Expected output is : \",np.ravel(z))\n",
    "\n"
   ]
  },
  {
   "cell_type": "code",
   "execution_count": 22,
   "metadata": {},
   "outputs": [
    {
     "name": "stdout",
     "output_type": "stream",
     "text": [
      "Array with duplicates removed  [1 2 3 4 5 6 7 8 9]\n"
     ]
    }
   ],
   "source": [
    "#2. In two arrays a ( 1,2,3,4,5) and b ( 4,5,6,7,8,9) – remove all repeating items present in array b\n",
    "\n",
    "a = np.array([1,2,3,4,5])\n",
    "b = np.array([4,5,6,7,8,9])\n",
    "\n",
    "c = np.concatenate((a,b))\n",
    "x= np.unique(c)\n",
    "print(\"Array with duplicates removed : \",x)"
   ]
  },
  {
   "cell_type": "code",
   "execution_count": 24,
   "metadata": {},
   "outputs": [
    {
     "name": "stdout",
     "output_type": "stream",
     "text": [
      "The new array 1:  [3 4 5]\n",
      "The new array 2:  [4 5 6]\n",
      "The sum of array 1 and array 2 is :  [ 7  9 11]\n"
     ]
    }
   ],
   "source": [
    "#3. Get all items between 3 and 7 from a and b and sum themtogether\n",
    "\n",
    "a = np.array([1,2,3,4,5])\n",
    "b = np.array([4,5,6,7,8,9])\n",
    "#use boolean slicing to get items between 3 and 7\n",
    "c = a[(a>=3)&(a<7)]\n",
    "d = b[(b>=3)&(b<7)]\n",
    "\n",
    "print(\"The new array 1: \",c)\n",
    "print(\"The new array 2: \",d)\n",
    "print(\"The sum of array 1 and array 2 is : \",c+d)"
   ]
  }
 ],
 "metadata": {
  "interpreter": {
   "hash": "91f43f3b574e371ac07566a11787cfc5fe3716ad1a546b1257236bfd8fe9810f"
  },
  "kernelspec": {
   "display_name": "Python 3.9.9 64-bit",
   "language": "python",
   "name": "python3"
  },
  "language_info": {
   "codemirror_mode": {
    "name": "ipython",
    "version": 3
   },
   "file_extension": ".py",
   "mimetype": "text/x-python",
   "name": "python",
   "nbconvert_exporter": "python",
   "pygments_lexer": "ipython3",
   "version": "3.9.9"
  },
  "orig_nbformat": 4
 },
 "nbformat": 4,
 "nbformat_minor": 2
}
