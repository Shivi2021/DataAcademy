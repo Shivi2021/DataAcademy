{
 "cells": [
  {
   "cell_type": "code",
   "execution_count": 14,
   "metadata": {},
   "outputs": [
    {
     "name": "stdout",
     "output_type": "stream",
     "text": [
      "Your favourite meal is  :  \n",
      " starter: Gobi 65\n",
      " maincourse as: Pizza\n",
      " dessert:cookie dough\n",
      " and a glass of Pepsi\n"
     ]
    },
    {
     "data": {
      "text/plain": [
       "''"
      ]
     },
     "execution_count": 14,
     "metadata": {},
     "output_type": "execute_result"
    }
   ],
   "source": [
    "\"\"\"\n",
    "Take user favourite  menu : starter, maincourse ,desert and drink and concatenate these and \n",
    "output a message which says \"Your favourite meal is :\" .......with a glass of ....\"\n",
    "\n",
    "\"\"\"\n",
    "starter = input(\"what satrter you would like to have\")\n",
    "mainCourse = input(\"what's your maincourse :\")\n",
    "dessert = input(\"enter your favourite dessert\")\n",
    "drink = input(\"enter your favourite drink:\\n\")\n",
    "''\n",
    "print(\"Your favourite meal is  :  \\n starter: \" + starter + \"\\n maincourse as: \" + mainCourse +\n",
    "\"\\n dessert:\" + dessert + \"\\n and a glass of \"+drink)\n",
    "''\n"
   ]
  },
  {
   "cell_type": "markdown",
   "metadata": {},
   "source": []
  },
  {
   "cell_type": "markdown",
   "metadata": {},
   "source": []
  }
 ],
 "metadata": {
  "interpreter": {
   "hash": "08e0ac7c625bc7f0b95a6be8ddf0522c3b9c82eaba5d32c22e32b73412e87e77"
  },
  "kernelspec": {
   "display_name": "Python 3.9.1 64-bit (system)",
   "language": "python",
   "name": "python3"
  },
  "language_info": {
   "codemirror_mode": {
    "name": "ipython",
    "version": 3
   },
   "file_extension": ".py",
   "mimetype": "text/x-python",
   "name": "python",
   "nbconvert_exporter": "python",
   "pygments_lexer": "ipython3",
   "version": "3.9.1"
  },
  "orig_nbformat": 4
 },
 "nbformat": 4,
 "nbformat_minor": 2
}
