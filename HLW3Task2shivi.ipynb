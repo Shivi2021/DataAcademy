{
 "cells": [
  {
   "cell_type": "code",
   "execution_count": 3,
   "metadata": {},
   "outputs": [
    {
     "name": "stdout",
     "output_type": "stream",
     "text": [
      "Value of bike in the year : 2020 is 2000\n",
      "Value of bike in the year : 2021 is 1800.0\n",
      "Value of bike in the year : 2022 is 1620.0\n",
      "Value of bike in the year : 2023 is 1458.0\n",
      "Value of bike in the year : 2024 is 1312.2\n",
      "Value of bike in the year : 2025 is 1180.98\n",
      "Value of bike in the year : 2026 is 1062.882\n"
     ]
    },
    {
     "data": {
      "text/plain": [
       "(956.5938000000001, 2027)"
      ]
     },
     "execution_count": 3,
     "metadata": {},
     "output_type": "execute_result"
    }
   ],
   "source": [
    "\"\"\"\"\n",
    "As an extension to the motorbike task that costs £2000 and loses 10% of \n",
    "its value every year. Set up a function that performs the calculation by\n",
    "passing in parameters. Then using a loop, print the value of the bike every\n",
    "following year until it falls below £1000.\n",
    "\n",
    "\"\"\"\n",
    "\n",
    "# declare variable and store user input \n",
    "bikePrice = int(input(\"What is the value of bike : ?\"))\n",
    "bikeYear = int(input(\"Enter the year in which you purchased a bike : ?\"))\n",
    "\n",
    "#create a function to calculate new cost of bike each year \n",
    "def calcCost(bikePrice,bikeYear) :\n",
    "    while bikePrice >= 1000 :\n",
    "        print(\"Value of bike in the year : \" + str(bikeYear) + \" is \"  +str(bikePrice))\n",
    "        bikePrice=bikePrice-(bikePrice*.10)\n",
    "        bikeYear += 1\n",
    "    return(bikePrice,bikeYear)\n",
    "\n",
    "#call the function passing parameters\n",
    "calcCost(bikePrice,bikeYear)\n",
    "\n",
    "\n"
   ]
  }
 ],
 "metadata": {
  "interpreter": {
   "hash": "91f43f3b574e371ac07566a11787cfc5fe3716ad1a546b1257236bfd8fe9810f"
  },
  "kernelspec": {
   "display_name": "Python 3.9.9 64-bit",
   "language": "python",
   "name": "python3"
  },
  "language_info": {
   "codemirror_mode": {
    "name": "ipython",
    "version": 3
   },
   "file_extension": ".py",
   "mimetype": "text/x-python",
   "name": "python",
   "nbconvert_exporter": "python",
   "pygments_lexer": "ipython3",
   "version": "3.9.9"
  },
  "orig_nbformat": 4
 },
 "nbformat": 4,
 "nbformat_minor": 2
}
