{
 "cells": [
  {
   "cell_type": "code",
   "execution_count": 8,
   "metadata": {},
   "outputs": [
    {
     "name": "stdout",
     "output_type": "stream",
     "text": [
      "Invalid operator is used :\n"
     ]
    }
   ],
   "source": [
    "\"\"\"\n",
    "Write a program which will ask for two numbers from a user. \n",
    "Then offer an option menu to the user giving them a choice of maths operators. \n",
    "Once the user has selected which operator they wish to use, perform the calculation \n",
    "by using a procedure and passing parameters. \n",
    "\n",
    "\"\"\"\n",
    "#Asks user to enter two numbers and thier choice of maths operation \n",
    "num1 = int(input(\"Enter a number:\"))\n",
    "num2 = int(input(\"Enter another number:\"))\n",
    "choice = input(\"Enter your choice of operation + ,-,*,/,** : \")\n",
    "\n",
    "#define procedure to perform calculation based on choice\n",
    "def procedure_addition(num1,num2):\n",
    "    num3 = num1 + num2 \n",
    "    print(\"result of addition is : \" +str(num3))\n",
    "\n",
    "def procedure_sub(num1,num2):\n",
    "    num3 = num1 - num2 \n",
    "    print(\"result of substraction is : \" +str(num3))\n",
    "\n",
    "def procedure_mult(num1,num2):\n",
    "    num3 = num1 * num2 \n",
    "    print(\"result of multiplication is : \" +str(num3))\n",
    "\n",
    "def procedure_div(num1,num2):\n",
    "    num3 = num1 / num2 \n",
    "    print(\"result of division is : \" +str(num3))\n",
    "\n",
    "def procedure_expo(num1,num2):\n",
    "    num3 = num1 ** num2 \n",
    "    print(\"result of exponentiation is : \" +str(num3))\n",
    "\n",
    "# based on user choice selects a maths operation \n",
    "if choice == \"+\" :\n",
    "    procedure_addition(num1,num2)\n",
    "elif choice == \"-\" :\n",
    "    procedure_sub(num1,num2)\n",
    "elif choice ==\"*\":\n",
    "    procedure_mult(num1,num2)\n",
    "elif choice ==\"/\" :\n",
    "    procedure_div(num1,num2)\n",
    "elif choice ==\"**\" :\n",
    "    procedure_expo(num1,num2)\n",
    "else : \n",
    "    print(\"Invalid operator is used :\")\n",
    "\n",
    "\n",
    "\n"
   ]
  }
 ],
 "metadata": {
  "interpreter": {
   "hash": "91f43f3b574e371ac07566a11787cfc5fe3716ad1a546b1257236bfd8fe9810f"
  },
  "kernelspec": {
   "display_name": "Python 3.9.9 64-bit",
   "language": "python",
   "name": "python3"
  },
  "language_info": {
   "codemirror_mode": {
    "name": "ipython",
    "version": 3
   },
   "file_extension": ".py",
   "mimetype": "text/x-python",
   "name": "python",
   "nbconvert_exporter": "python",
   "pygments_lexer": "ipython3",
   "version": "3.9.9"
  },
  "orig_nbformat": 4
 },
 "nbformat": 4,
 "nbformat_minor": 2
}
