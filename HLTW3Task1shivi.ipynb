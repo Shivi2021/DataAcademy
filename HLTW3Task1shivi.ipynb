{
 "cells": [
  {
   "cell_type": "code",
   "execution_count": 12,
   "metadata": {},
   "outputs": [
    {
     "name": "stdout",
     "output_type": "stream",
     "text": [
      "Number is Even\n"
     ]
    }
   ],
   "source": [
    "#asks user to enter a number\n",
    "\n",
    "number = int(input(\"Enter a number : \"))\n",
    "\n",
    "#check entered number is even or not\n",
    "result = number % 2 \n",
    "if result == 0  :\n",
    "    print(\"Number is Even\")\n",
    "else :\n",
    "    print(\"Number is odd\")\n"
   ]
  }
 ],
 "metadata": {
  "interpreter": {
   "hash": "91f43f3b574e371ac07566a11787cfc5fe3716ad1a546b1257236bfd8fe9810f"
  },
  "kernelspec": {
   "display_name": "Python 3.9.9 64-bit",
   "language": "python",
   "name": "python3"
  },
  "language_info": {
   "codemirror_mode": {
    "name": "ipython",
    "version": 3
   },
   "file_extension": ".py",
   "mimetype": "text/x-python",
   "name": "python",
   "nbconvert_exporter": "python",
   "pygments_lexer": "ipython3",
   "version": "3.9.9"
  },
  "orig_nbformat": 4
 },
 "nbformat": 4,
 "nbformat_minor": 2
}
