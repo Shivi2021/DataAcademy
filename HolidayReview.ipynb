{
 "cells": [
  {
   "cell_type": "code",
   "execution_count": 84,
   "metadata": {},
   "outputs": [],
   "source": [
    "import pandas as pd\n",
    "import seaborn as sns\n",
    "import matplotlib.pyplot as plt\n",
    "import numpy as np"
   ]
  },
  {
   "cell_type": "code",
   "execution_count": 85,
   "metadata": {},
   "outputs": [
    {
     "data": {
      "text/html": [
       "<div>\n",
       "<style scoped>\n",
       "    .dataframe tbody tr th:only-of-type {\n",
       "        vertical-align: middle;\n",
       "    }\n",
       "\n",
       "    .dataframe tbody tr th {\n",
       "        vertical-align: top;\n",
       "    }\n",
       "\n",
       "    .dataframe thead th {\n",
       "        text-align: right;\n",
       "    }\n",
       "</style>\n",
       "<table border=\"1\" class=\"dataframe\">\n",
       "  <thead>\n",
       "    <tr style=\"text-align: right;\">\n",
       "      <th></th>\n",
       "      <th>destination</th>\n",
       "      <th>rating_score</th>\n",
       "      <th>Avg_Hotel_Rating</th>\n",
       "      <th>All_ Incl_Hotels</th>\n",
       "      <th>famous_city</th>\n",
       "    </tr>\n",
       "  </thead>\n",
       "  <tbody>\n",
       "    <tr>\n",
       "      <th>0</th>\n",
       "      <td>New ZeaLand</td>\n",
       "      <td>8</td>\n",
       "      <td>4</td>\n",
       "      <td>28</td>\n",
       "      <td>Auckland</td>\n",
       "    </tr>\n",
       "    <tr>\n",
       "      <th>1</th>\n",
       "      <td>East Africa</td>\n",
       "      <td>6</td>\n",
       "      <td>4</td>\n",
       "      <td>14</td>\n",
       "      <td>Seychelles</td>\n",
       "    </tr>\n",
       "    <tr>\n",
       "      <th>2</th>\n",
       "      <td>Indonesia</td>\n",
       "      <td>7</td>\n",
       "      <td>3</td>\n",
       "      <td>2</td>\n",
       "      <td>Bali</td>\n",
       "    </tr>\n",
       "    <tr>\n",
       "      <th>3</th>\n",
       "      <td>UK</td>\n",
       "      <td>5</td>\n",
       "      <td>3</td>\n",
       "      <td>16</td>\n",
       "      <td>London</td>\n",
       "    </tr>\n",
       "    <tr>\n",
       "      <th>4</th>\n",
       "      <td>UAE</td>\n",
       "      <td>5</td>\n",
       "      <td>4</td>\n",
       "      <td>16</td>\n",
       "      <td>Dubai</td>\n",
       "    </tr>\n",
       "    <tr>\n",
       "      <th>5</th>\n",
       "      <td>Greece</td>\n",
       "      <td>6</td>\n",
       "      <td>2</td>\n",
       "      <td>3</td>\n",
       "      <td>Athens</td>\n",
       "    </tr>\n",
       "    <tr>\n",
       "      <th>6</th>\n",
       "      <td>India</td>\n",
       "      <td>6</td>\n",
       "      <td>4</td>\n",
       "      <td>13</td>\n",
       "      <td>Goa</td>\n",
       "    </tr>\n",
       "    <tr>\n",
       "      <th>7</th>\n",
       "      <td>Maldives</td>\n",
       "      <td>1</td>\n",
       "      <td>3</td>\n",
       "      <td>4</td>\n",
       "      <td>Maldives</td>\n",
       "    </tr>\n",
       "    <tr>\n",
       "      <th>8</th>\n",
       "      <td>Central America</td>\n",
       "      <td>7</td>\n",
       "      <td>4</td>\n",
       "      <td>13</td>\n",
       "      <td>Costa Rica</td>\n",
       "    </tr>\n",
       "    <tr>\n",
       "      <th>9</th>\n",
       "      <td>USA</td>\n",
       "      <td>8</td>\n",
       "      <td>4</td>\n",
       "      <td>16</td>\n",
       "      <td>New York</td>\n",
       "    </tr>\n",
       "    <tr>\n",
       "      <th>10</th>\n",
       "      <td>Netherland</td>\n",
       "      <td>9</td>\n",
       "      <td>5</td>\n",
       "      <td>16</td>\n",
       "      <td>Amsterdam</td>\n",
       "    </tr>\n",
       "    <tr>\n",
       "      <th>11</th>\n",
       "      <td>Sinagpaore</td>\n",
       "      <td>6</td>\n",
       "      <td>4</td>\n",
       "      <td>8</td>\n",
       "      <td>Singapore</td>\n",
       "    </tr>\n",
       "    <tr>\n",
       "      <th>12</th>\n",
       "      <td>France</td>\n",
       "      <td>5</td>\n",
       "      <td>2</td>\n",
       "      <td>6</td>\n",
       "      <td>Paris</td>\n",
       "    </tr>\n",
       "    <tr>\n",
       "      <th>13</th>\n",
       "      <td>Egypt</td>\n",
       "      <td>6</td>\n",
       "      <td>3</td>\n",
       "      <td>4</td>\n",
       "      <td>Kairo</td>\n",
       "    </tr>\n",
       "    <tr>\n",
       "      <th>14</th>\n",
       "      <td>Spain</td>\n",
       "      <td>1</td>\n",
       "      <td>1</td>\n",
       "      <td>3</td>\n",
       "      <td>Gran Canria</td>\n",
       "    </tr>\n",
       "  </tbody>\n",
       "</table>\n",
       "</div>"
      ],
      "text/plain": [
       "        destination  rating_score  Avg_Hotel_Rating   All_ Incl_Hotels  \\\n",
       "0       New ZeaLand             8                  4                28   \n",
       "1       East Africa             6                  4                14   \n",
       "2         Indonesia             7                  3                 2   \n",
       "3                UK             5                  3                16   \n",
       "4               UAE             5                  4                16   \n",
       "5            Greece             6                  2                 3   \n",
       "6             India             6                  4                13   \n",
       "7          Maldives             1                  3                 4   \n",
       "8   Central America             7                  4                13   \n",
       "9               USA             8                  4                16   \n",
       "10       Netherland             9                  5                16   \n",
       "11       Sinagpaore             6                  4                 8   \n",
       "12           France             5                  2                 6   \n",
       "13            Egypt             6                  3                 4   \n",
       "14            Spain             1                  1                 3   \n",
       "\n",
       "    famous_city  \n",
       "0      Auckland  \n",
       "1    Seychelles  \n",
       "2          Bali  \n",
       "3        London  \n",
       "4         Dubai  \n",
       "5        Athens  \n",
       "6           Goa  \n",
       "7      Maldives  \n",
       "8    Costa Rica  \n",
       "9      New York  \n",
       "10    Amsterdam  \n",
       "11    Singapore  \n",
       "12        Paris  \n",
       "13        Kairo  \n",
       "14  Gran Canria  "
      ]
     },
     "execution_count": 85,
     "metadata": {},
     "output_type": "execute_result"
    }
   ],
   "source": [
    "data = pd.read_csv(\"Holiday_Destination.csv\")\n",
    "data"
   ]
  },
  {
   "cell_type": "code",
   "execution_count": 86,
   "metadata": {},
   "outputs": [
    {
     "data": {
      "text/plain": [
       "(15, 5)"
      ]
     },
     "execution_count": 86,
     "metadata": {},
     "output_type": "execute_result"
    }
   ],
   "source": [
    "#Practical Task 1\n",
    "#How many rows and columnns in the file\n",
    "# shape -used to retieve total number of rows and columns\n",
    "data.shape"
   ]
  },
  {
   "cell_type": "code",
   "execution_count": 87,
   "metadata": {},
   "outputs": [
    {
     "name": "stdout",
     "output_type": "stream",
     "text": [
      "  destination  rating_score  Avg_Hotel_Rating   All_ Incl_Hotels famous_city\n",
      "3          UK             5                  3                16      London\n",
      "4         UAE             5                  4                16       Dubai\n",
      "5      Greece             6                  2                 3      Athens\n",
      "6       India             6                  4                13         Goa\n",
      "7    Maldives             1                  3                 4    Maldives\n"
     ]
    }
   ],
   "source": [
    "#Task 2\n",
    "#iloc - retrives data based on index location and #loc  -retrives data based on labels attributed to that data\n",
    "\n",
    "#Print row 3-8 using iloc\n",
    "print(data.iloc[3:8])"
   ]
  },
  {
   "cell_type": "code",
   "execution_count": 88,
   "metadata": {},
   "outputs": [
    {
     "name": "stdout",
     "output_type": "stream",
     "text": [
      "                  destination  Avg_Hotel_Rating   All_ Incl_Hotels famous_city\n",
      "rating_score                                                                  \n",
      "7                   Indonesia                  3                 2        Bali\n",
      "7             Central America                  4                13  Costa Rica\n"
     ]
    }
   ],
   "source": [
    "data = pd.read_csv(\"Holiday_Destination.csv\",index_col=\"rating_score\")\n",
    "print(data.loc[7])"
   ]
  },
  {
   "cell_type": "code",
   "execution_count": 89,
   "metadata": {},
   "outputs": [
    {
     "data": {
      "text/plain": [
       "10.8"
      ]
     },
     "execution_count": 89,
     "metadata": {},
     "output_type": "execute_result"
    }
   ],
   "source": [
    "#Task 3\n",
    "#Find the mean number of all-inclusive hotels across all destinations.\n",
    "data = pd.read_csv(\"Holiday_Destination.csv\")\n",
    "data[\"All_ Incl_Hotels\"].mean()"
   ]
  },
  {
   "cell_type": "code",
   "execution_count": 90,
   "metadata": {},
   "outputs": [
    {
     "data": {
      "text/plain": [
       "1"
      ]
     },
     "execution_count": 90,
     "metadata": {},
     "output_type": "execute_result"
    }
   ],
   "source": [
    "#Task 4\n",
    "#Find the lowest scoring destination.\n",
    "data[\"rating_score\"].min()"
   ]
  },
  {
   "cell_type": "code",
   "execution_count": 91,
   "metadata": {},
   "outputs": [
    {
     "data": {
      "text/plain": [
       "9"
      ]
     },
     "execution_count": 91,
     "metadata": {},
     "output_type": "execute_result"
    }
   ],
   "source": [
    "#Task 5\n",
    "#Find the highest scoring destination.\n",
    "data[\"rating_score\"].max()"
   ]
  },
  {
   "cell_type": "code",
   "execution_count": 92,
   "metadata": {},
   "outputs": [
    {
     "name": "stdout",
     "output_type": "stream",
     "text": [
      "        destination  rating_score  Avg_Hotel_Rating   All_ Incl_Hotels  \\\n",
      "0       New ZeaLand             8                  4                28   \n",
      "1       East Africa             6                  4                14   \n",
      "3                UK             5                  3                16   \n",
      "4               UAE             5                  4                16   \n",
      "6             India             6                  4                13   \n",
      "8   Central America             7                  4                13   \n",
      "9               USA             8                  4                16   \n",
      "10       Netherland             9                  5                16   \n",
      "\n",
      "   famous_city  \n",
      "0     Auckland  \n",
      "1   Seychelles  \n",
      "3       London  \n",
      "4        Dubai  \n",
      "6          Goa  \n",
      "8   Costa Rica  \n",
      "9     New York  \n",
      "10   Amsterdam  \n"
     ]
    }
   ],
   "source": [
    "#Task 6\n",
    "#Find all the destinations where there are more than 9 all-inclusive hotels. \n",
    "data = pd.read_csv(\"Holiday_Destination.csv\")\n",
    "x =data[\"All_ Incl_Hotels\"] > 9\n",
    "destabove9 =data[x]\n",
    "print(destabove9)\n"
   ]
  },
  {
   "cell_type": "code",
   "execution_count": 93,
   "metadata": {},
   "outputs": [
    {
     "name": "stdout",
     "output_type": "stream",
     "text": [
      "   destination  rating_score  Avg_Hotel_Rating   All_ Incl_Hotels famous_city\n",
      "10  Netherland             9                  5                16   Amsterdam\n"
     ]
    }
   ],
   "source": [
    "#Task 7\n",
    "#Filter the data by score above 8. \n",
    "userResponse =data[\"rating_score\"] >8\n",
    "x=data[userResponse]\n",
    "print(x)"
   ]
  },
  {
   "cell_type": "code",
   "execution_count": 94,
   "metadata": {},
   "outputs": [
    {
     "name": "stdout",
     "output_type": "stream",
     "text": [
      "   destination  rating_score  Avg_Hotel_Rating   All_ Incl_Hotels  famous_city\n",
      "7     Maldives             1                  3                 4     Maldives\n",
      "14       Spain             1                  1                 3  Gran Canria\n"
     ]
    }
   ],
   "source": [
    "#Task 8\n",
    "#Filter the data score below 2 ( I need to know if these destinations should be removed or there is a problem) \n",
    "userResponse =data[\"rating_score\"] < 2\n",
    "x=data[userResponse]\n",
    "print(x)"
   ]
  },
  {
   "cell_type": "code",
   "execution_count": 95,
   "metadata": {},
   "outputs": [
    {
     "name": "stdout",
     "output_type": "stream",
     "text": [
      "0.5267343245571555\n"
     ]
    }
   ],
   "source": [
    "#Task Extension 1:\n",
    "#Is there a correlation between number of all-inclusive hotels and score?\n",
    "\n",
    "x =data[\"All_ Incl_Hotels\"]\n",
    "y = data[\"rating_score\"]\n",
    "correlation = x.corr(y)\n",
    "print(correlation)\n"
   ]
  },
  {
   "cell_type": "code",
   "execution_count": 96,
   "metadata": {},
   "outputs": [
    {
     "name": "stdout",
     "output_type": "stream",
     "text": [
      "                   rating_score  Avg_Hotel_Rating   All_ Incl_Hotels\n",
      "rating_score           1.000000           0.677189          0.526734\n",
      "Avg_Hotel_Rating       0.677189           1.000000          0.663673\n",
      "All_ Incl_Hotels       0.526734           0.663673          1.000000\n"
     ]
    }
   ],
   "source": [
    "#correlation between different elements in the dataframe\n",
    "correlation_data =data.corr()\n",
    "print(correlation_data)"
   ]
  },
  {
   "cell_type": "code",
   "execution_count": 97,
   "metadata": {},
   "outputs": [
    {
     "name": "stdout",
     "output_type": "stream",
     "text": [
      "AxesSubplot(0.125,0.125;0.775x0.755)\n"
     ]
    },
    {
     "data": {
      "image/png": "[encoded data removed]",
      "text/plain": [
       "<Figure size 432x288 with 1 Axes>"
      ]
     },
     "metadata": {
      "needs_background": "light"
     },
     "output_type": "display_data"
    }
   ],
   "source": [
    "#Task Extension 2:\n",
    "#Create a data visualisation diagram to show destination and highest scores?\n",
    "\n",
    "print(data.plot.bar(x = \"destination\", y = \"rating_score\"))"
   ]
  }
 ],
 "metadata": {
  "interpreter": {
   "hash": "91f43f3b574e371ac07566a11787cfc5fe3716ad1a546b1257236bfd8fe9810f"
  },
  "kernelspec": {
   "display_name": "Python 3.9.9 64-bit",
   "language": "python",
   "name": "python3"
  },
  "language_info": {
   "codemirror_mode": {
    "name": "ipython",
    "version": 3
   },
   "file_extension": ".py",
   "mimetype": "text/x-python",
   "name": "python",
   "nbconvert_exporter": "python",
   "pygments_lexer": "ipython3",
   "version": "3.9.9"
  },
  "orig_nbformat": 4
 },
 "nbformat": 4,
 "nbformat_minor": 2
}
