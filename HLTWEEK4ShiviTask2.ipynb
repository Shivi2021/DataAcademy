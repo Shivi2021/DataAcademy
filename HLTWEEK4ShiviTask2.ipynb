{
 "cells": [
  {
   "cell_type": "code",
   "execution_count": 49,
   "metadata": {},
   "outputs": [],
   "source": [
    "#Task2 \n",
    "# Write a program to ask a student for their percentage mark and convert this to a grade.\n",
    "#The conversion will be done in a function called mark_grade"
   ]
  },
  {
   "cell_type": "code",
   "execution_count": 1,
   "metadata": {},
   "outputs": [
    {
     "name": "stdout",
     "output_type": "stream",
     "text": [
      "Your marks Percentage is : 70\n",
      "Your Target Grade is :  A\n",
      "Your exam grade is :  B\n",
      "Your exam grade is less than target grade ,better luck next time \n"
     ]
    }
   ],
   "source": [
    "# Asks a student to enter their percentage mark\n",
    "marks_Percentage = int(input(\"Enter your marks percentage\"))\n",
    "print(\"Your marks Percentage is :\",marks_Percentage)\n",
    "target_grade = input(\"Enter your target grade\")\n",
    "print(\"Your Target Grade is : \",target_grade)\n",
    "\n",
    "\n",
    "# Write a program to ask a student for their percentage mark and convert this to a grade.\n",
    "#create a function to covert marks percentage into grade\n",
    "def mark_grade(marks_percentage):\n",
    "    grade =\"\"\n",
    "    \n",
    "    if marks_Percentage >= 80 :\n",
    "        grade = 'A'\n",
    "        print(\"Your exam grade is : \",grade)\n",
    "        compare_Grade(grade,target_grade)\n",
    "       \n",
    "    elif marks_Percentage  < 80 and marks_Percentage>= 60:\n",
    "        grade = 'B'\n",
    "        print(\"Your exam grade is : \",grade)\n",
    "        compare_Grade(grade,target_grade)\n",
    "                        \n",
    "    elif marks_Percentage  <60 and marks_Percentage >= 40 :\n",
    "        grade = 'C'\n",
    "        print(\"Your exam grade is : \",grade)\n",
    "        compare_Grade(grade,target_grade)\n",
    "    \n",
    "    elif marks_Percentage  <40 and marks_Percentage >= 30 :\n",
    "        grade = 'D'\n",
    "        print(\"Your exam grade is : \",grade)\n",
    "        compare_Grade(grade,target_grade)\n",
    "        \n",
    "    elif marks_Percentage  <30  and marks_Percentage >= 0 :\n",
    "        grade ='E'\n",
    "        print(\"Your exam grade is : \",grade)\n",
    "        compare_Grade(grade,target_grade)\n",
    "        print(\" Sorry .Your exam grade is not enough to pass the exam \")\n",
    "\n",
    "#Extension to task 2 - compare grade       \n",
    "           \n",
    "def compare_Grade(grade,target_grade):\n",
    "        if grade == target_grade :\n",
    "            print(\"Your exam grade matches your target grade ,You acheived it\" \"\\n\" )\n",
    "        elif grade <= target_grade : \n",
    "            print(\"Well done ! Your Grade is more than your target grade\")\n",
    "        else :\n",
    "            print(\"Your exam grade is less than target grade ,better luck next time \")\n",
    "\n",
    "#call the function to calcluate grade \n",
    "mark_grade(marks_Percentage)"
   ]
  },
  {
   "cell_type": "code",
   "execution_count": null,
   "metadata": {},
   "outputs": [],
   "source": []
  }
 ],
 "metadata": {
  "interpreter": {
   "hash": "91f43f3b574e371ac07566a11787cfc5fe3716ad1a546b1257236bfd8fe9810f"
  },
  "kernelspec": {
   "display_name": "Python 3.9.9 64-bit",
   "language": "python",
   "name": "python3"
  },
  "language_info": {
   "codemirror_mode": {
    "name": "ipython",
    "version": 3
   },
   "file_extension": ".py",
   "mimetype": "text/x-python",
   "name": "python",
   "nbconvert_exporter": "python",
   "pygments_lexer": "ipython3",
   "version": "3.9.9"
  },
  "orig_nbformat": 4
 },
 "nbformat": 4,
 "nbformat_minor": 2
}
