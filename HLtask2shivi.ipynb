{
 "cells": [
  {
   "cell_type": "code",
   "execution_count": 11,
   "metadata": {},
   "outputs": [
    {
     "name": "stdout",
     "output_type": "stream",
     "text": [
      "45\n",
      "How do all oceans say hello to each other!,they WAVE\n"
     ]
    }
   ],
   "source": [
    "\"\"\"\n",
    "Write a program that asks a user for thier favourite number between 1 and 100 and then tells\n",
    "them a joke based on the number .You should use a minimum of three jokes\n",
    "\n",
    "\"\"\"\n",
    "#asks user their favourite number betwwen 1 and 100\n",
    "\n",
    "userNumber = int(input(\"Enter your favourite number between 1 and 100\"))\n",
    "print(userNumber)\n",
    "\n",
    "if userNumber >= 20 and userNumber <= 50 :\n",
    "    print(\"How do all oceans say hello to each other!,they WAVE\")\n",
    "elif userNumber >=51 and userNumber <= 100:\n",
    "    print(\"What do u call a bear with no teeth, Gummy bear\")\n",
    "else:\n",
    "    print(\"what did 0 say 8,Nice Belt!\")"
   ]
  }
 ],
 "metadata": {
  "interpreter": {
   "hash": "08e0ac7c625bc7f0b95a6be8ddf0522c3b9c82eaba5d32c22e32b73412e87e77"
  },
  "kernelspec": {
   "display_name": "Python 3.9.1 64-bit (system)",
   "language": "python",
   "name": "python3"
  },
  "language_info": {
   "codemirror_mode": {
    "name": "ipython",
    "version": 3
   },
   "file_extension": ".py",
   "mimetype": "text/x-python",
   "name": "python",
   "nbconvert_exporter": "python",
   "pygments_lexer": "ipython3",
   "version": "3.9.1"
  },
  "orig_nbformat": 4
 },
 "nbformat": 4,
 "nbformat_minor": 2
}
