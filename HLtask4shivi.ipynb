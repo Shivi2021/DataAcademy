{
 "cells": [
  {
   "cell_type": "code",
   "execution_count": 13,
   "metadata": {},
   "outputs": [
    {
     "name": "stdout",
     "output_type": "stream",
     "text": [
      "Value of bike in the year : 2021 is 2000\n",
      "Value of bike in the year : 2022 is 1800.0\n",
      "Value of bike in the year : 2023 is 1620.0\n",
      "Value of bike in the year : 2024 is 1458.0\n",
      "Value of bike in the year : 2025 is 1312.2\n",
      "Value of bike in the year : 2026 is 1180.98\n",
      "Value of bike in the year : 2027 is 1062.882\n"
     ]
    }
   ],
   "source": [
    "\"\"\"\n",
    "A motorbike costs £2000 and loses 10% of its value every year. Using a loop ,print the value of a \n",
    "bike every following year until it drops below £1000.\n",
    "\n",
    "\"\"\"\n",
    "bikePrice = 2000\n",
    "year = 2021\n",
    "\n",
    "while bikePrice >= 1000 :\n",
    "    print(\"Value of bike in the year : \" + str(year) + \" is \"  +str(bikePrice))\n",
    "    bikePrice=bikePrice-(bikePrice*.10)\n",
    "    year += 1\n",
    "\n"
   ]
  }
 ],
 "metadata": {
  "interpreter": {
   "hash": "08e0ac7c625bc7f0b95a6be8ddf0522c3b9c82eaba5d32c22e32b73412e87e77"
  },
  "kernelspec": {
   "display_name": "Python 3.9.1 64-bit (system)",
   "language": "python",
   "name": "python3"
  },
  "language_info": {
   "codemirror_mode": {
    "name": "ipython",
    "version": 3
   },
   "file_extension": ".py",
   "mimetype": "text/x-python",
   "name": "python",
   "nbconvert_exporter": "python",
   "pygments_lexer": "ipython3",
   "version": "3.9.1"
  },
  "orig_nbformat": 4
 },
 "nbformat": 4,
 "nbformat_minor": 2
}
