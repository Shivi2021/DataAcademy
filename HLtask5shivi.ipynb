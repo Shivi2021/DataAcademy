{
 "cells": [
  {
   "cell_type": "code",
   "execution_count": 11,
   "metadata": {},
   "outputs": [
    {
     "name": "stdout",
     "output_type": "stream",
     "text": [
      "Value of Division : 1.0\n"
     ]
    }
   ],
   "source": [
    "\"\"\" \n",
    "\n",
    "Write a program which will ask for two numbers from a user. Then offer a menu to the user giving them a choice of operator:\n",
    "e.g. – Enter “a” if you want to add “b” if you want to subtract Include +, -, /, *, ** square (to the power of). Once the user \n",
    "has selected which operator they wish to use, perform the calculation.\n",
    "\n",
    "\"\"\"\n",
    "num1 = int(input(\"Enter a number :\"))\n",
    "num2 = int(input(\"Enter another number :\"))\n",
    "choice = input(\"Enter your choice of operation : '+' '-' '*' '/' '**(to the power of)' \")\n",
    "\n",
    "if choice == \"+\" :\n",
    "    print(\"Result of Addition : \" +str(num1+num2))\n",
    "elif choice == \"-\":\n",
    "    print(\"Result of Substraction : \" +str(num1-num2))\n",
    "elif choice == \"*\":\n",
    "    print(\" Result of Multiplication : \" +str(num1*num2))\n",
    "elif choice == \"/\":\n",
    "    print(\"Result of Division : \" +str(num1/num2))\n",
    "elif choice == \"**\":\n",
    "    print(\"Result of Exponentiation of entered two numbers  : \" +str(num1**num2))   \n"
   ]
  }
 ],
 "metadata": {
  "interpreter": {
   "hash": "08e0ac7c625bc7f0b95a6be8ddf0522c3b9c82eaba5d32c22e32b73412e87e77"
  },
  "kernelspec": {
   "display_name": "Python 3.9.1 64-bit (system)",
   "language": "python",
   "name": "python3"
  },
  "language_info": {
   "codemirror_mode": {
    "name": "ipython",
    "version": 3
   },
   "file_extension": ".py",
   "mimetype": "text/x-python",
   "name": "python",
   "nbconvert_exporter": "python",
   "pygments_lexer": "ipython3",
   "version": "3.9.1"
  },
  "orig_nbformat": 4
 },
 "nbformat": 4,
 "nbformat_minor": 2
}
