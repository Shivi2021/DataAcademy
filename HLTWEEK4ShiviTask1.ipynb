{
 "cells": [
  {
   "cell_type": "code",
   "execution_count": null,
   "metadata": {},
   "outputs": [],
   "source": [
    "#Write a program that allows you to enter 4 numbers and stores them in a file called “Numbers”\n",
    "#• 3 #• 45 # • 83 # • 21\n",
    "#Have a go at ‘w’ ‘r’ ‘a’"
   ]
  },
  {
   "cell_type": "markdown",
   "metadata": {},
   "source": []
  },
  {
   "cell_type": "code",
   "execution_count": 9,
   "metadata": {},
   "outputs": [
    {
     "name": "stdout",
     "output_type": "stream",
     "text": [
      "3 45 83 21\n",
      "3 45\n",
      "3\n",
      "45\n",
      "83\n",
      "21\n"
     ]
    }
   ],
   "source": [
    "#Asks user to enter 4 numbers\n",
    "userNumbers = input(\"Enter 4 numbers seperated by space: \\n \")\n",
    "print(userNumbers)\n",
    "\n",
    "#create a new file\n",
    "myFile =open(\"Numbers.txt\",\"x\")\n",
    "myFile.close()\n",
    "\n",
    "# open a file to write user data\n",
    "myFile = open(\"Numbers.txt\",\"w\")\n",
    "myFile.write(userNumbers)\n",
    "myFile.close()\n",
    "\n",
    "#open file to read data from file\n",
    "myFile = open(\"Numbers.txt\",\"r\")\n",
    "print(myFile.read(4))\n",
    "myFile.close()\n",
    "\n",
    "#open a file to read with contents in each seperate line\n",
    "with open(\"Numbers.txt\",\"r\") as myFile :\n",
    "    data=myFile.read().replace(\" \",\"\\n\")\n",
    "myFile.close()\n",
    "print(data)\n",
    "\n",
    "#open a file to append data to the exisiting file\n",
    "myFile =open(\"Numbers.txt\",\"a\")\n",
    "myFile.write(\"\\n new text added to the file \")\n",
    "myFile.close()\n",
    "\n"
   ]
  },
  {
   "cell_type": "markdown",
   "metadata": {},
   "source": []
  }
 ],
 "metadata": {
  "interpreter": {
   "hash": "91f43f3b574e371ac07566a11787cfc5fe3716ad1a546b1257236bfd8fe9810f"
  },
  "kernelspec": {
   "display_name": "Python 3.9.9 64-bit",
   "language": "python",
   "name": "python3"
  },
  "language_info": {
   "codemirror_mode": {
    "name": "ipython",
    "version": 3
   },
   "file_extension": ".py",
   "mimetype": "text/x-python",
   "name": "python",
   "nbconvert_exporter": "python",
   "pygments_lexer": "ipython3",
   "version": "3.9.9"
  },
  "orig_nbformat": 4
 },
 "nbformat": 4,
 "nbformat_minor": 2
}
